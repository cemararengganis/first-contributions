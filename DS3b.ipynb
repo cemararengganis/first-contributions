{
  "nbformat": 4,
  "nbformat_minor": 0,
  "metadata": {
    "colab": {
      "name": "DS3.ipynb",
      "provenance": [],
      "collapsed_sections": [],
      "authorship_tag": "ABX9TyO2Kv2iTbeJARrotqMi3FRb",
      "include_colab_link": true
    },
    "kernelspec": {
      "name": "python3",
      "display_name": "Python 3"
    },
    "language_info": {
      "name": "python"
    }
  },
  "cells": [
    {
      "cell_type": "markdown",
      "metadata": {
        "id": "view-in-github",
        "colab_type": "text"
      },
      "source": [
        "<a href=\"https://colab.research.google.com/github/cemararengganis/first-contributions/blob/master/DS3b.ipynb\" target=\"_parent\"><img src=\"https://colab.research.google.com/assets/colab-badge.svg\" alt=\"Open In Colab\"/></a>"
      ]
    },
    {
      "cell_type": "code",
      "metadata": {
        "colab": {
          "base_uri": "https://localhost:8080/"
        },
        "id": "dmhUETiPJIHK",
        "outputId": "b1029c29-db8d-4467-ba75-0b07d19a8d43"
      },
      "source": [
        "#install spark\n",
        "!apt-get update\n",
        "!apt-get install openjdk-8-jdk-headless -qq > /dev/null\n",
        "!wget -q https://archive.apache.org/dist/spark/spark-2.4.5/spark-2.4.5-bin-hadoop2.7.tgz\n",
        "!tar xf spark-2.4.5-bin-hadoop2.7.tgz\n",
        "!pip install -q findspark"
      ],
      "execution_count": null,
      "outputs": [
        {
          "output_type": "stream",
          "text": [
            "\r0% [Working]\r            \rIgn:1 https://developer.download.nvidia.com/compute/cuda/repos/ubuntu1804/x86_64  InRelease\n",
            "\r0% [Connecting to archive.ubuntu.com] [Connecting to security.ubuntu.com] [Conn\r                                                                               \rIgn:2 https://developer.download.nvidia.com/compute/machine-learning/repos/ubuntu1804/x86_64  InRelease\n",
            "\r0% [Connecting to archive.ubuntu.com] [Connecting to security.ubuntu.com] [Conn\r                                                                               \rHit:3 https://developer.download.nvidia.com/compute/cuda/repos/ubuntu1804/x86_64  Release\n",
            "\r0% [Connecting to archive.ubuntu.com] [Connecting to security.ubuntu.com] [Wait\r                                                                               \rGet:4 https://cloud.r-project.org/bin/linux/ubuntu bionic-cran40/ InRelease [3,626 B]\n",
            "Hit:5 https://developer.download.nvidia.com/compute/machine-learning/repos/ubuntu1804/x86_64  Release\n",
            "Get:6 http://ppa.launchpad.net/c2d4u.team/c2d4u4.0+/ubuntu bionic InRelease [15.9 kB]\n",
            "Get:7 http://security.ubuntu.com/ubuntu bionic-security InRelease [88.7 kB]\n",
            "Hit:9 http://archive.ubuntu.com/ubuntu bionic InRelease\n",
            "Get:10 https://cloud.r-project.org/bin/linux/ubuntu bionic-cran40/ Packages [52.7 kB]\n",
            "Get:11 http://archive.ubuntu.com/ubuntu bionic-updates InRelease [88.7 kB]\n",
            "Hit:12 http://ppa.launchpad.net/cran/libgit2/ubuntu bionic InRelease\n",
            "Get:14 http://ppa.launchpad.net/deadsnakes/ppa/ubuntu bionic InRelease [15.9 kB]\n",
            "Get:15 http://archive.ubuntu.com/ubuntu bionic-backports InRelease [74.6 kB]\n",
            "Get:16 http://security.ubuntu.com/ubuntu bionic-security/main amd64 Packages [2,045 kB]\n",
            "Hit:17 http://ppa.launchpad.net/graphics-drivers/ppa/ubuntu bionic InRelease\n",
            "Get:18 http://ppa.launchpad.net/c2d4u.team/c2d4u4.0+/ubuntu bionic/main Sources [1,750 kB]\n",
            "Get:19 http://archive.ubuntu.com/ubuntu bionic-updates/main amd64 Packages [2,476 kB]\n",
            "Get:20 http://security.ubuntu.com/ubuntu bionic-security/universe amd64 Packages [1,402 kB]\n",
            "Get:21 http://archive.ubuntu.com/ubuntu bionic-updates/universe amd64 Packages [2,172 kB]\n",
            "Get:22 http://ppa.launchpad.net/c2d4u.team/c2d4u4.0+/ubuntu bionic/main amd64 Packages [895 kB]\n",
            "Get:23 http://ppa.launchpad.net/deadsnakes/ppa/ubuntu bionic/main amd64 Packages [39.5 kB]\n",
            "Fetched 11.1 MB in 4s (2,583 kB/s)\n",
            "Reading package lists... Done\n"
          ],
          "name": "stdout"
        }
      ]
    },
    {
      "cell_type": "code",
      "metadata": {
        "id": "p6TugKeyJJeU"
      },
      "source": [
        "#set environment\n",
        "import os\n",
        "os.environ[\"JAVA_HOME\"] = \"/usr/lib/jvm/java-8-openjdk-amd64\"\n",
        "os.environ[\"SPARK_HOME\"] = \"/content/spark-2.4.5-bin-hadoop2.7\""
      ],
      "execution_count": null,
      "outputs": []
    },
    {
      "cell_type": "code",
      "metadata": {
        "id": "09hmvVX5Of3N"
      },
      "source": [
        "#inisialisasi\n",
        "import findspark\n",
        "findspark.init()\n",
        "from pyspark.sql import SparkSession\n",
        "spark = SparkSession.builder.master(\"local[*]\").getOrCreate()"
      ],
      "execution_count": null,
      "outputs": []
    },
    {
      "cell_type": "code",
      "metadata": {
        "id": "SYW3eihOOjlk"
      },
      "source": [
        "#ambil Spark COntext\n",
        "from pyspark import SparkContext\n",
        "sc = spark.sparkContext;"
      ],
      "execution_count": null,
      "outputs": []
    },
    {
      "cell_type": "code",
      "metadata": {
        "colab": {
          "base_uri": "https://localhost:8080/"
        },
        "id": "6zgRAi2uOpXo",
        "outputId": "03ecd3b4-2cd3-447c-a852-b9e90da7a6bf"
      },
      "source": [
        "#membuat RDD dengan struktur seragam\n",
        "data = sc.parallelize([('Amir', 22), ('Badu', 23), ('Cica',4), ('Doni', 12), ('Amir',\n",
        "9)]).collect()\n",
        "data"
      ],
      "execution_count": null,
      "outputs": [
        {
          "output_type": "execute_result",
          "data": {
            "text/plain": [
              "[('Amir', 22), ('Badu', 23), ('Cica', 4), ('Doni', 12), ('Amir', 9)]"
            ]
          },
          "metadata": {
            "tags": []
          },
          "execution_count": 6
        }
      ]
    },
    {
      "cell_type": "code",
      "metadata": {
        "colab": {
          "base_uri": "https://localhost:8080/"
        },
        "id": "FHLlNkPTTn3Y",
        "outputId": "06a5c4cd-9dec-46cb-eef0-bf677e22d84a"
      },
      "source": [
        "#membuat RDD dengan struktur campuran\n",
        "data_campur = sc.parallelize([('Pesawat', 'Garuda',20), {'Ertiga': 210000000},\n",
        "['Jakarta','Bandung', 5]]).collect()\n",
        "data_campur"
      ],
      "execution_count": null,
      "outputs": [
        {
          "output_type": "execute_result",
          "data": {
            "text/plain": [
              "[('Pesawat', 'Garuda', 20), {'Ertiga': 210000000}, ['Jakarta', 'Bandung', 5]]"
            ]
          },
          "metadata": {
            "tags": []
          },
          "execution_count": 7
        }
      ]
    },
    {
      "cell_type": "code",
      "metadata": {
        "id": "fctTUZzhTrm0"
      },
      "source": [
        "#ambil spark context\n",
        "from pyspark import SparkContext\n",
        "sc = spark.sparkContext;"
      ],
      "execution_count": null,
      "outputs": []
    },
    {
      "cell_type": "code",
      "metadata": {
        "id": "OuoFCMLhT1_P"
      },
      "source": [
        "#load data\n",
        "df = spark.read.json('kontak.json')"
      ],
      "execution_count": null,
      "outputs": []
    },
    {
      "cell_type": "code",
      "metadata": {
        "colab": {
          "base_uri": "https://localhost:8080/"
        },
        "id": "JNIZCoZaT51q",
        "outputId": "ded2138b-08a6-4413-a5eb-7cefa8a623e2"
      },
      "source": [
        "#tampil data\n",
        "df.show(5)"
      ],
      "execution_count": null,
      "outputs": [
        {
          "output_type": "stream",
          "text": [
            "+-------+----+\n",
            "|   nama|usia|\n",
            "+-------+----+\n",
            "|   Amir|null|\n",
            "|   Badu|  30|\n",
            "|   Doni|  30|\n",
            "|Singgih|  33|\n",
            "|   Dedy|  43|\n",
            "+-------+----+\n",
            "only showing top 5 rows\n",
            "\n"
          ],
          "name": "stdout"
        }
      ]
    },
    {
      "cell_type": "code",
      "metadata": {
        "colab": {
          "base_uri": "https://localhost:8080/"
        },
        "id": "J6r44oVfT-VO",
        "outputId": "2686c71c-b6b5-4e41-e9e0-db2551ee4234"
      },
      "source": [
        "#baca csv\n",
        "df2 = spark.read.csv('karyawan.csv',inferSchema=True,header=True)\n",
        "df2.show(5)"
      ],
      "execution_count": null,
      "outputs": [
        {
          "output_type": "stream",
          "text": [
            "+-------+-------+\n",
            "|   nama|   gaji|\n",
            "+-------+-------+\n",
            "|   Amir|7000000|\n",
            "|   Badu|6000000|\n",
            "|   Doni|6000000|\n",
            "|Singgih|6600000|\n",
            "|   Dedy|4300000|\n",
            "+-------+-------+\n",
            "only showing top 5 rows\n",
            "\n"
          ],
          "name": "stdout"
        }
      ]
    },
    {
      "cell_type": "code",
      "metadata": {
        "colab": {
          "base_uri": "https://localhost:8080/"
        },
        "id": "Fx-3IUy1UVxL",
        "outputId": "f2647905-ceaa-487e-8f7d-44bc00d6ceec"
      },
      "source": [
        "#menggunakan agregat\n",
        "print(df.agg({\"usia\": \"max\"}).collect())\n",
        "from pyspark.sql import functions as F\n",
        "print(df.agg(F.max('usia')).collect())"
      ],
      "execution_count": null,
      "outputs": [
        {
          "output_type": "stream",
          "text": [
            "[Row(max(usia)=43)]\n",
            "[Row(max(usia)=43)]\n"
          ],
          "name": "stdout"
        }
      ]
    },
    {
      "cell_type": "code",
      "metadata": {
        "colab": {
          "base_uri": "https://localhost:8080/"
        },
        "id": "TiVEuR14UZyO",
        "outputId": "32b3ae16-8e15-4a01-d473-d9a75f141907"
      },
      "source": [
        "#membuat alias\n",
        "from pyspark.sql.functions import *\n",
        "kontak = df.alias(\"kontak\")\n",
        "karyawan = df2.alias(\"karyawan\")\n",
        "gabung = kontak.join(karyawan, col(\"kontak.nama\") == col(\"karyawan.nama\"), 'inner')\n",
        "final = gabung.select(\"kontak.nama\", \"karyawan.gaji\", \"kontak.usia\")\n",
        "final.show()"
      ],
      "execution_count": null,
      "outputs": [
        {
          "output_type": "stream",
          "text": [
            "+-------+--------+----+\n",
            "|   nama|    gaji|usia|\n",
            "+-------+--------+----+\n",
            "|   Amir| 7000000|null|\n",
            "|   Badu| 6000000|  30|\n",
            "|   Doni| 6000000|  30|\n",
            "|Singgih| 6600000|  33|\n",
            "|   Dedy| 4300000|  43|\n",
            "|  Nuzul| 7300000|null|\n",
            "|Mustofa|15000000|  27|\n",
            "|   Umar| 7200000|  36|\n",
            "|Arindra| 7800000|  39|\n",
            "|  Apang| 7400000|  37|\n",
            "+-------+--------+----+\n",
            "\n"
          ],
          "name": "stdout"
        }
      ]
    },
    {
      "cell_type": "code",
      "metadata": {
        "colab": {
          "base_uri": "https://localhost:8080/"
        },
        "id": "Lb3GI5imUoNd",
        "outputId": "ecb41e24-8b78-43f9-fcd4-2e5de8918f8a"
      },
      "source": [
        "#beberapa fungsi sama dengan RDD\n",
        "#cache\n",
        "final.cache()\n",
        "#collect\n",
        "print(final.collect())\n",
        "#count\n",
        "print(final.count())"
      ],
      "execution_count": null,
      "outputs": [
        {
          "output_type": "stream",
          "text": [
            "[Row(nama='Amir', gaji=7000000, usia=None), Row(nama='Badu', gaji=6000000, usia=30), Row(nama='Doni', gaji=6000000, usia=30), Row(nama='Singgih', gaji=6600000, usia=33), Row(nama='Dedy', gaji=4300000, usia=43), Row(nama='Nuzul', gaji=7300000, usia=None), Row(nama='Mustofa', gaji=15000000, usia=27), Row(nama='Umar', gaji=7200000, usia=36), Row(nama='Arindra', gaji=7800000, usia=39), Row(nama='Apang', gaji=7400000, usia=37)]\n",
            "10\n"
          ],
          "name": "stdout"
        }
      ]
    },
    {
      "cell_type": "code",
      "metadata": {
        "colab": {
          "base_uri": "https://localhost:8080/"
        },
        "id": "0OQczjPaUrf1",
        "outputId": "e155aca0-2409-46f1-f066-f1580a6a254b"
      },
      "source": [
        "#tampil nama kolom\n",
        "final.columns"
      ],
      "execution_count": null,
      "outputs": [
        {
          "output_type": "execute_result",
          "data": {
            "text/plain": [
              "['nama', 'gaji', 'usia']"
            ]
          },
          "metadata": {
            "tags": []
          },
          "execution_count": 15
        }
      ]
    },
    {
      "cell_type": "code",
      "metadata": {
        "colab": {
          "base_uri": "https://localhost:8080/"
        },
        "id": "YfO7f0TgUw-6",
        "outputId": "3a846736-4619-4fb6-ef31-4844a3b976de"
      },
      "source": [
        "#korelasi\n",
        "final.corr('usia','gaji')"
      ],
      "execution_count": null,
      "outputs": [
        {
          "output_type": "execute_result",
          "data": {
            "text/plain": [
              "-0.1198946577057265"
            ]
          },
          "metadata": {
            "tags": []
          },
          "execution_count": 16
        }
      ]
    },
    {
      "cell_type": "code",
      "metadata": {
        "colab": {
          "base_uri": "https://localhost:8080/"
        },
        "id": "n00y08xHU5iC",
        "outputId": "d7aef043-2667-4cf2-a984-ae1339e860e7"
      },
      "source": [
        "#komputasi statistik kolom numerik\n",
        "final.describe().show()"
      ],
      "execution_count": null,
      "outputs": [
        {
          "output_type": "stream",
          "text": [
            "+-------+----+----------------+-----------------+\n",
            "|summary|nama|            gaji|             usia|\n",
            "+-------+----+----------------+-----------------+\n",
            "|  count|  10|              10|                8|\n",
            "|   mean|null|       7460000.0|           34.375|\n",
            "| stddev|null|2833607.82984049|5.343554194407634|\n",
            "|    min|Amir|         4300000|               27|\n",
            "|    max|Umar|        15000000|               43|\n",
            "+-------+----+----------------+-----------------+\n",
            "\n"
          ],
          "name": "stdout"
        }
      ]
    },
    {
      "cell_type": "code",
      "metadata": {
        "colab": {
          "base_uri": "https://localhost:8080/"
        },
        "id": "mz0h4scBU9jB",
        "outputId": "81268a5a-5b85-495f-f957-e445e5e5731b"
      },
      "source": [
        "#distinct\n",
        "print(final.select('gaji').count())\n",
        "print(final.select('gaji').distinct().count())\n",
        "print(final.select('gaji').distinct().show())"
      ],
      "execution_count": null,
      "outputs": [
        {
          "output_type": "stream",
          "text": [
            "10\n",
            "9\n",
            "+--------+\n",
            "|    gaji|\n",
            "+--------+\n",
            "| 7000000|\n",
            "| 7800000|\n",
            "|15000000|\n",
            "| 7200000|\n",
            "| 7400000|\n",
            "| 4300000|\n",
            "| 6600000|\n",
            "| 7300000|\n",
            "| 6000000|\n",
            "+--------+\n",
            "\n",
            "None\n"
          ],
          "name": "stdout"
        }
      ]
    },
    {
      "cell_type": "code",
      "metadata": {
        "colab": {
          "base_uri": "https://localhost:8080/"
        },
        "id": "-UbJUwEiVBvf",
        "outputId": "40455930-e5ff-46e4-a905-2a20994fa2ba"
      },
      "source": [
        "#drop kolom\n",
        "print(df.columns)\n",
        "print(df2.columns)\n",
        "print(df.drop('usia').show())"
      ],
      "execution_count": null,
      "outputs": [
        {
          "output_type": "stream",
          "text": [
            "['nama', 'usia']\n",
            "['nama', 'gaji']\n",
            "+-------+\n",
            "|   nama|\n",
            "+-------+\n",
            "|   Amir|\n",
            "|   Badu|\n",
            "|   Doni|\n",
            "|Singgih|\n",
            "|   Dedy|\n",
            "|  Nuzul|\n",
            "|Mustofa|\n",
            "|   Umar|\n",
            "|Arindra|\n",
            "|  Apang|\n",
            "+-------+\n",
            "\n",
            "None\n"
          ],
          "name": "stdout"
        }
      ]
    },
    {
      "cell_type": "code",
      "metadata": {
        "colab": {
          "base_uri": "https://localhost:8080/"
        },
        "id": "NbT57tTfVFCs",
        "outputId": "ab368177-32b2-468a-9a44-f7bb57e55c9e"
      },
      "source": [
        "df.show(5)"
      ],
      "execution_count": null,
      "outputs": [
        {
          "output_type": "stream",
          "text": [
            "+-------+----+\n",
            "|   nama|usia|\n",
            "+-------+----+\n",
            "|   Amir|null|\n",
            "|   Badu|  30|\n",
            "|   Doni|  30|\n",
            "|Singgih|  33|\n",
            "|   Dedy|  43|\n",
            "+-------+----+\n",
            "only showing top 5 rows\n",
            "\n"
          ],
          "name": "stdout"
        }
      ]
    },
    {
      "cell_type": "code",
      "metadata": {
        "id": "edsAJSsrVmnp"
      },
      "source": [
        "#https://finance.yahoo.com/quote/TLKM.JK/history?period1=1096329600&period2=159122880\n",
        "#0&interval=1d&filter=history&frequency=1d\n",
        "#load ke memori\n",
        "df = spark.read.csv('TLKM.JK.csv',inferSchema=True,header=True)"
      ],
      "execution_count": null,
      "outputs": []
    },
    {
      "cell_type": "code",
      "metadata": {
        "colab": {
          "base_uri": "https://localhost:8080/"
        },
        "id": "MaNvnT36Vvjt",
        "outputId": "c4aeed50-56a6-4075-d7be-b8c8e0d5ed1c"
      },
      "source": [
        "#tampil 5 data awal\n",
        "df.show(5)"
      ],
      "execution_count": null,
      "outputs": [
        {
          "output_type": "stream",
          "text": [
            "+-------------------+----------+----------+----------+----------+----------+---------+\n",
            "|               Date|      Open|      High|       Low|     Close| Adj Close|   Volume|\n",
            "+-------------------+----------+----------+----------+----------+----------+---------+\n",
            "|2004-09-28 00:00:00|835.000000|835.000000|825.000000|825.000000|123.351845| 90095000|\n",
            "|2004-09-29 00:00:00|825.000000|825.000000|810.000000|825.000000|123.351845| 29370000|\n",
            "|2004-09-30 00:00:00|825.000000|830.000000|825.000000|830.000000|124.099464| 42927500|\n",
            "|2004-10-01 00:00:00|830.000000|845.000000|825.000000|840.000000|125.594643|108387500|\n",
            "|2004-10-04 00:00:00|845.000000|880.000000|845.000000|870.000000|130.080124|424210000|\n",
            "+-------------------+----------+----------+----------+----------+----------+---------+\n",
            "only showing top 5 rows\n",
            "\n"
          ],
          "name": "stdout"
        }
      ]
    },
    {
      "cell_type": "code",
      "metadata": {
        "colab": {
          "base_uri": "https://localhost:8080/"
        },
        "id": "RCqdv_iyVynX",
        "outputId": "b8af84d7-1a37-4ebd-92d1-eb835298cf4d"
      },
      "source": [
        "#info tabel\n",
        "df.printSchema()\n",
        "df.count()"
      ],
      "execution_count": null,
      "outputs": [
        {
          "output_type": "stream",
          "text": [
            "root\n",
            " |-- Date: timestamp (nullable = true)\n",
            " |-- Open: string (nullable = true)\n",
            " |-- High: string (nullable = true)\n",
            " |-- Low: string (nullable = true)\n",
            " |-- Close: string (nullable = true)\n",
            " |-- Adj Close: string (nullable = true)\n",
            " |-- Volume: string (nullable = true)\n",
            "\n"
          ],
          "name": "stdout"
        },
        {
          "output_type": "execute_result",
          "data": {
            "text/plain": [
              "3897"
            ]
          },
          "metadata": {
            "tags": []
          },
          "execution_count": 24
        }
      ]
    },
    {
      "cell_type": "code",
      "metadata": {
        "id": "EnjD8fb-V5_y"
      },
      "source": [
        "#ubah tipe data\n",
        "df = df.withColumn(\"Open\", df.Open.cast('double'))\n",
        "df = df.withColumn(\"High\", df.High.cast('double'))\n",
        "df = df.withColumn(\"Low\", df.Low.cast('double'))\n",
        "df = df.withColumn(\"Close\", df.Close.cast('double'))\n",
        "df = df.withColumn(\"Adj Close\", df['Adj Close'].cast('double'))\n",
        "df = df.withColumn(\"Volume\", df.Volume.cast('integer'))"
      ],
      "execution_count": null,
      "outputs": []
    },
    {
      "cell_type": "code",
      "metadata": {
        "colab": {
          "base_uri": "https://localhost:8080/"
        },
        "id": "dmXDAWX6WEln",
        "outputId": "92cb7b87-cc91-41ab-c01d-d834cf852b5d"
      },
      "source": [
        "#cek skema berubah\n",
        "df.printSchema()"
      ],
      "execution_count": null,
      "outputs": [
        {
          "output_type": "stream",
          "text": [
            "root\n",
            " |-- Date: timestamp (nullable = true)\n",
            " |-- Open: double (nullable = true)\n",
            " |-- High: double (nullable = true)\n",
            " |-- Low: double (nullable = true)\n",
            " |-- Close: double (nullable = true)\n",
            " |-- Adj Close: double (nullable = true)\n",
            " |-- Volume: integer (nullable = true)\n",
            "\n"
          ],
          "name": "stdout"
        }
      ]
    },
    {
      "cell_type": "code",
      "metadata": {
        "colab": {
          "base_uri": "https://localhost:8080/"
        },
        "id": "PTafx-adWIJG",
        "outputId": "e0df3477-f9d5-4acf-fd7c-922d0ad49698"
      },
      "source": [
        "#cek apakah ada yang null\n",
        "from pyspark.sql.functions import isnan, when, count, col\n",
        "df.select([count(when( col(c).isNull(), c)).alias(c) for c in df.columns]).show()"
      ],
      "execution_count": null,
      "outputs": [
        {
          "output_type": "stream",
          "text": [
            "+----+----+----+---+-----+---------+------+\n",
            "|Date|Open|High|Low|Close|Adj Close|Volume|\n",
            "+----+----+----+---+-----+---------+------+\n",
            "|   0|  36|  36| 36|   36|       36|    36|\n",
            "+----+----+----+---+-----+---------+------+\n",
            "\n"
          ],
          "name": "stdout"
        }
      ]
    },
    {
      "cell_type": "code",
      "metadata": {
        "id": "PuDKTXGEWPtK"
      },
      "source": [
        "#drop null\n",
        "dfclean = df.na.drop(how='any')"
      ],
      "execution_count": null,
      "outputs": []
    },
    {
      "cell_type": "code",
      "metadata": {
        "colab": {
          "base_uri": "https://localhost:8080/"
        },
        "id": "m6wJDcEGWU2V",
        "outputId": "20bcfec8-4b4b-4833-8d2a-e9f63ec4b79a"
      },
      "source": [
        "#cek ulang null\n",
        "dfclean.select([count(when( col(c).isNull(), c)).alias(c) for c in\n",
        "dfclean.columns]).show()"
      ],
      "execution_count": null,
      "outputs": [
        {
          "output_type": "stream",
          "text": [
            "+----+----+----+---+-----+---------+------+\n",
            "|Date|Open|High|Low|Close|Adj Close|Volume|\n",
            "+----+----+----+---+-----+---------+------+\n",
            "|   0|   0|   0|  0|    0|        0|     0|\n",
            "+----+----+----+---+-----+---------+------+\n",
            "\n"
          ],
          "name": "stdout"
        }
      ]
    },
    {
      "cell_type": "code",
      "metadata": {
        "colab": {
          "base_uri": "https://localhost:8080/"
        },
        "id": "yUhq3Wp9WXWY",
        "outputId": "61b798ee-4a0e-4332-b3ea-6c3a3e609e35"
      },
      "source": [
        "#tampilkan statistik\n",
        "dfclean.describe().show()"
      ],
      "execution_count": null,
      "outputs": [
        {
          "output_type": "stream",
          "text": [
            "+-------+------------------+------------------+------------------+------------------+------------------+-------------------+\n",
            "|summary|              Open|              High|               Low|             Close|         Adj Close|             Volume|\n",
            "+-------+------------------+------------------+------------------+------------------+------------------+-------------------+\n",
            "|  count|              3861|              3861|              3861|              3861|              3861|               3861|\n",
            "|   mean|2424.5754985754984|2452.6120176120176|2397.2286972286975|  2425.00777000777|1804.0317654027438|9.757185266122766E7|\n",
            "| stddev|1083.9830930036037|1092.4516781623754|1076.2375509513736|1084.2149926092493|1475.6031910021748| 6.07356066496236E7|\n",
            "|    min|             820.0|             825.0|             810.0|             825.0|        123.351845|                  0|\n",
            "|    max|            4800.0|            4840.0|            4780.0|            4800.0|       4693.016113|          808005000|\n",
            "+-------+------------------+------------------+------------------+------------------+------------------+-------------------+\n",
            "\n"
          ],
          "name": "stdout"
        }
      ]
    },
    {
      "cell_type": "code",
      "metadata": {
        "id": "_OItxPmDWb2N"
      },
      "source": [
        "import requests\n",
        "\n",
        "headers = {\n",
        "    'authority': 'www.olx.co.id',\n",
        "    'sec-ch-ua': '\"Google Chrome\";v=\"89\", \"Chromium\";v=\"89\", \";Not A Brand\";v=\"99\"',\n",
        "    'accept': '*/*',\n",
        "    'x-newrelic-id': 'VQMGU1ZVDxABU1lbBgMDUlI=',\n",
        "    'sec-ch-ua-mobile': '?0',\n",
        "    'x-panamera-fingerprint': '0a3a9f247abc7e8bc173124c78093aa5#1617784056249',\n",
        "    'user-agent': 'Mozilla/5.0 (Macintosh; Intel Mac OS X 10_15_7) AppleWebKit/537.36 (KHTML, like Gecko) Chrome/89.0.4389.114 Safari/537.36',\n",
        "    'sec-fetch-site': 'same-origin',\n",
        "    'sec-fetch-mode': 'cors',\n",
        "    'sec-fetch-dest': 'empty',\n",
        "    'referer': 'https://www.olx.co.id/items/q-mobil',\n",
        "    'accept-language': 'en-US,en;q=0.9',\n",
        "    'cookie': 'bm_sz=9FC41A746160CBE196C13B6A97AEE8FF~YAAQTRdLF6J6AnN4AQAAd5pxqwuk/9nqbvRq3DRYEiaN0avDcWkLYs/Bu0sLK8GTR4LLgRVXIvX+lqDdUZ5PXWrZCTfEwBdDAuyGDTyrim6svxGiCajSI4kPWgVYbv9paLG1uhXLKbj6JfNkEsW5fRRGQgA3fKtK6R9Z5FzECMGDnYZVgKEVxTFgDU6ky5A=; ak_bmsc=1248118460D1ABB546423237C8D04132174B174DF6060000F66C6D6098856575~plYDQvS9Ld5aE0TXmMbpbWZX/eofXblzGVkNL9rPcAnfKeeMUpVi+3gxo0/DIEAqZyxl27Z5sR2ikf2r0K0HInlkEXixDnFndF+I/tH8hUxGRzmcI/k1ZzuEe7MMkWcCKezp0FKT4lE36QhJ0sjFQl84gTzUJuMlpdddmwba7gGBDK4xaPdrRV+THKlF9+KgjmH4AdSbZmvOB3SHeYJdzUjOEbmGDpexF8yHzyNz/PzIgQhLtX0SWEs2piQdOwMmF6; _abck=94F40CAAA3033DA12706A06E37C36883~0~YAAQTRdLF8x6AnN4AQAAFqxxqwUAxrWCI6zfSZVlxwd7iwN0LZqbKYzBNOpxmsIl420qG0i3eH9Q+rLnHFk+lUTfARgvicOqrdMrvkUYefQGe7NWUbZuCNFpWgxa0jwKWh3maGXksxOb/iLY7kEm0xrDBO1X483McdkIpPXlV0OuyiroEZY9i+2MyQYPqakdaSoG7pEB4xYz6uqdjpfWsc5Pv3u8lNPDBTUrHyXsyGEwIB5DCniATq7BFTM58dSMVZk09EGgJvLwmh0aQcJimSAGCGSwcYnu0Gm0DfRrdtlLPFaNsPrm6bjZl3a9KXFE5WuNp9YqpUACkTw5VRUMZwEjMKYdpCG8Q6WxdPkMOu3tgxAJSSllEL79t5QcPPgvX9/MyOD/aUjZ9Hyb5ebs+ZAAjHtOYGk=~-1~||-1||~-1; ldTd=true; lqstatus=1617785257||||; laquesis=pan-46706@b#pan-49638@a; laquesisff=; laquesissu=; _ga=GA1.3.189924337.1617784057; _gid=GA1.3.1431383857.1617784057; _rtb_user_id=e1810f77-ca16-5d41-4f93-d19fd0e9c8f4; _gcl_au=1.1.862897736.1617784057; WZRK_G=0c5bbfe21e6a4f30be81c920fca01fba; __gads=ID=117409c4e118a75d:T=1617784058:S=ALNI_MbM7fFeiARoEBOXrNv66pJQkMnUAA; g_state={\"i_p\":1617791261716,\"i_l\":1}; onap=178ab71ac70x8aba0ff-1-178ab71ac70x8aba0ff-15-1617785871; bm_sv=8B20648BB3DAD6FEA35753416F732D62~OiWg+P6fsRDiolHQNJm1f+M6V3ArddZcy0qMrgYJApeiv2uKUDpxRrTproYE+kg7nnXvZjnx2jrTmbBZCmHC8HUU9Cw4wb5o1ybnOzj+iUW3hhDXQIuCyVuygZ7V1a7n5PgMhUyMbLMbpuSXPRdNwhmWmI/Ep19ThgYAyz5YHr4=; WZRK_S_W6K-746-995Z=%7B%22p%22%3A1%2C%22s%22%3A1617784057%2C%22t%22%3A1617784177%7D',\n",
        "}\n",
        "\n",
        "params = (\n",
        "    ('facet_limit', '100'),\n",
        "    ('location', '1000001'),\n",
        "    ('location_facet_limit', '20'),\n",
        "    ('page', '1'),\n",
        "    ('query', 'mobil'),\n",
        "    ('spellcheck', 'true'),\n",
        "    ('user', '178ab71ac70x8aba0ff'),\n",
        ")\n",
        "\n",
        "response = requests.get('https://www.olx.co.id/api/relevance/search', headers=headers, params=params)\n",
        "\n",
        "#NB. Original query string below. It seems impossible to parse and\n",
        "#reproduce query strings 100% accurately so the one below is given\n",
        "#in case the reproduced version is not \"correct\".\n",
        "# response = requests.get('https://www.olx.co.id/api/relevance/search?facet_limit=100&location=1000001&location_facet_limit=20&page=1&query=mobil&spellcheck=true&user=178ab71ac70x8aba0ff', headers=headers)\n"
      ],
      "execution_count": null,
      "outputs": []
    },
    {
      "cell_type": "code",
      "metadata": {
        "id": "o4ZXLc-ieuXo"
      },
      "source": [
        "# konversi ke json\n",
        "data_mobil = response.json()"
      ],
      "execution_count": null,
      "outputs": []
    },
    {
      "cell_type": "code",
      "metadata": {
        "colab": {
          "base_uri": "https://localhost:8080/"
        },
        "id": "C0ZX4T5Ce50y",
        "outputId": "c05c5f7b-6777-4d5c-ee2e-243bbbebdf1a"
      },
      "source": [
        "# cek panjang dengan len\n",
        "len(data_mobil['data'])"
      ],
      "execution_count": null,
      "outputs": [
        {
          "output_type": "execute_result",
          "data": {
            "text/plain": [
              "20"
            ]
          },
          "metadata": {
            "tags": []
          },
          "execution_count": 36
        }
      ]
    },
    {
      "cell_type": "code",
      "metadata": {
        "id": "kIr2wsqXfKtn"
      },
      "source": [
        "# simpan data\n",
        "data_mobil = data_mobil['data']"
      ],
      "execution_count": null,
      "outputs": []
    },
    {
      "cell_type": "code",
      "metadata": {
        "colab": {
          "base_uri": "https://localhost:8080/"
        },
        "id": "MzOxKWKHfxQq",
        "outputId": "8926063e-6377-4c07-fc4c-cf64c5ddf372"
      },
      "source": [
        "data_mobil[0]"
      ],
      "execution_count": null,
      "outputs": [
        {
          "output_type": "execute_result",
          "data": {
            "text/plain": [
              "{'car_body_type': 'hatchback',\n",
              " 'category_id': '198',\n",
              " 'certified_car': False,\n",
              " 'created_at': '2021-03-23T15:15:57+07:00',\n",
              " 'created_at_first': '2021-02-05T21:45:32+07:00',\n",
              " 'description': 'OA-Mobil19-229\\n\\nHonda Jazz 1.5 RS A/T 2016 Hitam\\n\\nHarga Rp 179.000.000,- (Credit)\\nHarga Cash (Call)\\n\\nSimulasi Kredit :\\nTenor 4 Tahun DP 20 Juta. Angsuran 48 x 5.367.000*\\nTenor 5 Tahun DP 20 Juta. Angsuran 60 x 4.715.000*\\n*Harga dapat berubah sewaktu-waktu\\n\\nFREE BENEFIT (keuntungan) tambahan jika anda membeli mobil di OLX Autos - Jual - Beli - Tukar Tambah\\n\\nSpesifikasi Kendaraan:\\n- STNK dan BPKB Asli dan Akur (Atas nama Pribadi)\\n- Pajak Oktober 2019\\n- Plat Nomor Ganjil\\n- Warna Hitam\\n- Odometer 68.507 km\\n- Interior Original Fabric Model\\n- Head Unit Original dan Terawat\\n- Velg dan Ban Original\\n- Kaki-kaki Terawat\\n- Bebas Banjir\\n- Bebas Tabrak\\n- Mobil rawatan Bengkel Resmi Honda\\n\\nUntuk meyakinkan anda, kami berikan free Test drive\\n\\nJl. Raden Saleh Blok: 10 No. 25, RT.5/RW.1, \\nMeruya Utara, Kec. Kembangan, \\nKota Jakarta Barat\\nDaerah Khusus Ibukota Jakarta. 15157\\n\\nOLX Autos pusatnya Mobil Bekas Berkualitas\\nMobil lulus inspeksi dan bergaransi',\n",
              " 'display_date': '2021-04-05T11:26:48+0000',\n",
              " 'favorites': {'count': 7,\n",
              "  'count_label': '7',\n",
              "  'count_label_next': '8',\n",
              "  'count_label_prev': '6'},\n",
              " 'has_phone_param': False,\n",
              " 'id': '817740033',\n",
              " 'images': [{'big': {'height': 378,\n",
              "    'url': 'https://apollo-singapore.akamaized.net:443/v1/files/rpflt2gkjftb1-ID/image;s=505x378',\n",
              "    'width': 505},\n",
              "   'external_id': 'rpflt2gkjftb1-ID',\n",
              "   'full': {'height': 810,\n",
              "    'url': 'https://apollo-singapore.akamaized.net:443/v1/files/rpflt2gkjftb1-ID/image;s=1080x810',\n",
              "    'width': 1080},\n",
              "   'height': 810,\n",
              "   'id': '1797938980',\n",
              "   'medium': {'height': 90,\n",
              "    'url': 'https://apollo-singapore.akamaized.net:443/v1/files/rpflt2gkjftb1-ID/image;s=120x90',\n",
              "    'width': 120},\n",
              "   'small': {'height': 90,\n",
              "    'url': 'https://apollo-singapore.akamaized.net:443/v1/files/rpflt2gkjftb1-ID/image;s=120x90',\n",
              "    'width': 120},\n",
              "   'url': 'https://apollo-singapore.akamaized.net:443/v1/files/rpflt2gkjftb1-ID/image',\n",
              "   'width': 1080},\n",
              "  {'big': {'height': 713,\n",
              "    'url': 'https://apollo-singapore.akamaized.net:443/v1/files/65jtow0dnbby2-ID/image;s=505x713',\n",
              "    'width': 505},\n",
              "   'external_id': '65jtow0dnbby2-ID',\n",
              "   'full': {'height': 1526,\n",
              "    'url': 'https://apollo-singapore.akamaized.net:443/v1/files/65jtow0dnbby2-ID/image;s=1080x1526',\n",
              "    'width': 1080},\n",
              "   'height': 1526,\n",
              "   'id': '1797938981',\n",
              "   'medium': {'height': 169,\n",
              "    'url': 'https://apollo-singapore.akamaized.net:443/v1/files/65jtow0dnbby2-ID/image;s=120x169',\n",
              "    'width': 120},\n",
              "   'small': {'height': 169,\n",
              "    'url': 'https://apollo-singapore.akamaized.net:443/v1/files/65jtow0dnbby2-ID/image;s=120x169',\n",
              "    'width': 120},\n",
              "   'url': 'https://apollo-singapore.akamaized.net:443/v1/files/65jtow0dnbby2-ID/image',\n",
              "   'width': 1080},\n",
              "  {'big': {'height': 378,\n",
              "    'url': 'https://apollo-singapore.akamaized.net:443/v1/files/fb25o95japi72-ID/image;s=505x378',\n",
              "    'width': 505},\n",
              "   'external_id': 'fb25o95japi72-ID',\n",
              "   'full': {'height': 810,\n",
              "    'url': 'https://apollo-singapore.akamaized.net:443/v1/files/fb25o95japi72-ID/image;s=1080x810',\n",
              "    'width': 1080},\n",
              "   'height': 768,\n",
              "   'id': '1797938982',\n",
              "   'medium': {'height': 90,\n",
              "    'url': 'https://apollo-singapore.akamaized.net:443/v1/files/fb25o95japi72-ID/image;s=120x90',\n",
              "    'width': 120},\n",
              "   'small': {'height': 90,\n",
              "    'url': 'https://apollo-singapore.akamaized.net:443/v1/files/fb25o95japi72-ID/image;s=120x90',\n",
              "    'width': 120},\n",
              "   'url': 'https://apollo-singapore.akamaized.net:443/v1/files/fb25o95japi72-ID/image',\n",
              "   'width': 1024},\n",
              "  {'big': {'height': 378,\n",
              "    'url': 'https://apollo-singapore.akamaized.net:443/v1/files/zxfvorvx1zl53-ID/image;s=505x378',\n",
              "    'width': 505},\n",
              "   'external_id': 'zxfvorvx1zl53-ID',\n",
              "   'full': {'height': 809,\n",
              "    'url': 'https://apollo-singapore.akamaized.net:443/v1/files/zxfvorvx1zl53-ID/image;s=1080x809',\n",
              "    'width': 1080},\n",
              "   'height': 809,\n",
              "   'id': '1797938983',\n",
              "   'medium': {'height': 89,\n",
              "    'url': 'https://apollo-singapore.akamaized.net:443/v1/files/zxfvorvx1zl53-ID/image;s=120x89',\n",
              "    'width': 120},\n",
              "   'small': {'height': 89,\n",
              "    'url': 'https://apollo-singapore.akamaized.net:443/v1/files/zxfvorvx1zl53-ID/image;s=120x89',\n",
              "    'width': 120},\n",
              "   'url': 'https://apollo-singapore.akamaized.net:443/v1/files/zxfvorvx1zl53-ID/image',\n",
              "   'width': 1080},\n",
              "  {'big': {'height': 378,\n",
              "    'url': 'https://apollo-singapore.akamaized.net:443/v1/files/58pdh8c53mtn2-ID/image;s=505x378',\n",
              "    'width': 505},\n",
              "   'external_id': '58pdh8c53mtn2-ID',\n",
              "   'full': {'height': 810,\n",
              "    'url': 'https://apollo-singapore.akamaized.net:443/v1/files/58pdh8c53mtn2-ID/image;s=1080x810',\n",
              "    'width': 1080},\n",
              "   'height': 810,\n",
              "   'id': '1797938984',\n",
              "   'medium': {'height': 90,\n",
              "    'url': 'https://apollo-singapore.akamaized.net:443/v1/files/58pdh8c53mtn2-ID/image;s=120x90',\n",
              "    'width': 120},\n",
              "   'small': {'height': 90,\n",
              "    'url': 'https://apollo-singapore.akamaized.net:443/v1/files/58pdh8c53mtn2-ID/image;s=120x90',\n",
              "    'width': 120},\n",
              "   'url': 'https://apollo-singapore.akamaized.net:443/v1/files/58pdh8c53mtn2-ID/image',\n",
              "   'width': 1080},\n",
              "  {'big': {'height': 378,\n",
              "    'url': 'https://apollo-singapore.akamaized.net:443/v1/files/ma98wrcbac0v1-ID/image;s=505x378',\n",
              "    'width': 505},\n",
              "   'external_id': 'ma98wrcbac0v1-ID',\n",
              "   'full': {'height': 810,\n",
              "    'url': 'https://apollo-singapore.akamaized.net:443/v1/files/ma98wrcbac0v1-ID/image;s=1080x810',\n",
              "    'width': 1080},\n",
              "   'height': 810,\n",
              "   'id': '1797938985',\n",
              "   'medium': {'height': 90,\n",
              "    'url': 'https://apollo-singapore.akamaized.net:443/v1/files/ma98wrcbac0v1-ID/image;s=120x90',\n",
              "    'width': 120},\n",
              "   'small': {'height': 90,\n",
              "    'url': 'https://apollo-singapore.akamaized.net:443/v1/files/ma98wrcbac0v1-ID/image;s=120x90',\n",
              "    'width': 120},\n",
              "   'url': 'https://apollo-singapore.akamaized.net:443/v1/files/ma98wrcbac0v1-ID/image',\n",
              "   'width': 1080},\n",
              "  {'big': {'height': 378,\n",
              "    'url': 'https://apollo-singapore.akamaized.net:443/v1/files/h9p0ow8iq7cl1-ID/image;s=505x378',\n",
              "    'width': 505},\n",
              "   'external_id': 'h9p0ow8iq7cl1-ID',\n",
              "   'full': {'height': 810,\n",
              "    'url': 'https://apollo-singapore.akamaized.net:443/v1/files/h9p0ow8iq7cl1-ID/image;s=1080x810',\n",
              "    'width': 1080},\n",
              "   'height': 810,\n",
              "   'id': '1797938986',\n",
              "   'medium': {'height': 90,\n",
              "    'url': 'https://apollo-singapore.akamaized.net:443/v1/files/h9p0ow8iq7cl1-ID/image;s=120x90',\n",
              "    'width': 120},\n",
              "   'small': {'height': 90,\n",
              "    'url': 'https://apollo-singapore.akamaized.net:443/v1/files/h9p0ow8iq7cl1-ID/image;s=120x90',\n",
              "    'width': 120},\n",
              "   'url': 'https://apollo-singapore.akamaized.net:443/v1/files/h9p0ow8iq7cl1-ID/image',\n",
              "   'width': 1080},\n",
              "  {'big': {'height': 378,\n",
              "    'url': 'https://apollo-singapore.akamaized.net:443/v1/files/oh90d45xf0g61-ID/image;s=505x378',\n",
              "    'width': 505},\n",
              "   'external_id': 'oh90d45xf0g61-ID',\n",
              "   'full': {'height': 810,\n",
              "    'url': 'https://apollo-singapore.akamaized.net:443/v1/files/oh90d45xf0g61-ID/image;s=1080x810',\n",
              "    'width': 1080},\n",
              "   'height': 810,\n",
              "   'id': '1797938987',\n",
              "   'medium': {'height': 90,\n",
              "    'url': 'https://apollo-singapore.akamaized.net:443/v1/files/oh90d45xf0g61-ID/image;s=120x90',\n",
              "    'width': 120},\n",
              "   'small': {'height': 90,\n",
              "    'url': 'https://apollo-singapore.akamaized.net:443/v1/files/oh90d45xf0g61-ID/image;s=120x90',\n",
              "    'width': 120},\n",
              "   'url': 'https://apollo-singapore.akamaized.net:443/v1/files/oh90d45xf0g61-ID/image',\n",
              "   'width': 1080},\n",
              "  {'big': {'height': 378,\n",
              "    'url': 'https://apollo-singapore.akamaized.net:443/v1/files/0lf03dc00ia21-ID/image;s=505x378',\n",
              "    'width': 505},\n",
              "   'external_id': '0lf03dc00ia21-ID',\n",
              "   'full': {'height': 810,\n",
              "    'url': 'https://apollo-singapore.akamaized.net:443/v1/files/0lf03dc00ia21-ID/image;s=1080x810',\n",
              "    'width': 1080},\n",
              "   'height': 810,\n",
              "   'id': '1797938988',\n",
              "   'medium': {'height': 90,\n",
              "    'url': 'https://apollo-singapore.akamaized.net:443/v1/files/0lf03dc00ia21-ID/image;s=120x90',\n",
              "    'width': 120},\n",
              "   'small': {'height': 90,\n",
              "    'url': 'https://apollo-singapore.akamaized.net:443/v1/files/0lf03dc00ia21-ID/image;s=120x90',\n",
              "    'width': 120},\n",
              "   'url': 'https://apollo-singapore.akamaized.net:443/v1/files/0lf03dc00ia21-ID/image',\n",
              "   'width': 1080},\n",
              "  {'big': {'height': 378,\n",
              "    'url': 'https://apollo-singapore.akamaized.net:443/v1/files/svq3sju2i1cp3-ID/image;s=505x378',\n",
              "    'width': 505},\n",
              "   'external_id': 'svq3sju2i1cp3-ID',\n",
              "   'full': {'height': 810,\n",
              "    'url': 'https://apollo-singapore.akamaized.net:443/v1/files/svq3sju2i1cp3-ID/image;s=1080x810',\n",
              "    'width': 1080},\n",
              "   'height': 810,\n",
              "   'id': '1797938989',\n",
              "   'medium': {'height': 90,\n",
              "    'url': 'https://apollo-singapore.akamaized.net:443/v1/files/svq3sju2i1cp3-ID/image;s=120x90',\n",
              "    'width': 120},\n",
              "   'small': {'height': 90,\n",
              "    'url': 'https://apollo-singapore.akamaized.net:443/v1/files/svq3sju2i1cp3-ID/image;s=120x90',\n",
              "    'width': 120},\n",
              "   'url': 'https://apollo-singapore.akamaized.net:443/v1/files/svq3sju2i1cp3-ID/image',\n",
              "   'width': 1080},\n",
              "  {'big': {'height': 378,\n",
              "    'url': 'https://apollo-singapore.akamaized.net:443/v1/files/f33h4n3chacp2-ID/image;s=505x378',\n",
              "    'width': 505},\n",
              "   'external_id': 'f33h4n3chacp2-ID',\n",
              "   'full': {'height': 810,\n",
              "    'url': 'https://apollo-singapore.akamaized.net:443/v1/files/f33h4n3chacp2-ID/image;s=1080x810',\n",
              "    'width': 1080},\n",
              "   'height': 810,\n",
              "   'id': '1797938990',\n",
              "   'medium': {'height': 90,\n",
              "    'url': 'https://apollo-singapore.akamaized.net:443/v1/files/f33h4n3chacp2-ID/image;s=120x90',\n",
              "    'width': 120},\n",
              "   'small': {'height': 90,\n",
              "    'url': 'https://apollo-singapore.akamaized.net:443/v1/files/f33h4n3chacp2-ID/image;s=120x90',\n",
              "    'width': 120},\n",
              "   'url': 'https://apollo-singapore.akamaized.net:443/v1/files/f33h4n3chacp2-ID/image',\n",
              "   'width': 1080},\n",
              "  {'big': {'height': 378,\n",
              "    'url': 'https://apollo-singapore.akamaized.net:443/v1/files/jic41c68gq7v1-ID/image;s=505x378',\n",
              "    'width': 505},\n",
              "   'external_id': 'jic41c68gq7v1-ID',\n",
              "   'full': {'height': 810,\n",
              "    'url': 'https://apollo-singapore.akamaized.net:443/v1/files/jic41c68gq7v1-ID/image;s=1080x810',\n",
              "    'width': 1080},\n",
              "   'height': 810,\n",
              "   'id': '1797938991',\n",
              "   'medium': {'height': 90,\n",
              "    'url': 'https://apollo-singapore.akamaized.net:443/v1/files/jic41c68gq7v1-ID/image;s=120x90',\n",
              "    'width': 120},\n",
              "   'small': {'height': 90,\n",
              "    'url': 'https://apollo-singapore.akamaized.net:443/v1/files/jic41c68gq7v1-ID/image;s=120x90',\n",
              "    'width': 120},\n",
              "   'url': 'https://apollo-singapore.akamaized.net:443/v1/files/jic41c68gq7v1-ID/image',\n",
              "   'width': 1080},\n",
              "  {'big': {'height': 378,\n",
              "    'url': 'https://apollo-singapore.akamaized.net:443/v1/files/a0swpk3ww6jk-ID/image;s=505x378',\n",
              "    'width': 505},\n",
              "   'external_id': 'a0swpk3ww6jk-ID',\n",
              "   'full': {'height': 810,\n",
              "    'url': 'https://apollo-singapore.akamaized.net:443/v1/files/a0swpk3ww6jk-ID/image;s=1080x810',\n",
              "    'width': 1080},\n",
              "   'height': 810,\n",
              "   'id': '1797938992',\n",
              "   'medium': {'height': 90,\n",
              "    'url': 'https://apollo-singapore.akamaized.net:443/v1/files/a0swpk3ww6jk-ID/image;s=120x90',\n",
              "    'width': 120},\n",
              "   'small': {'height': 90,\n",
              "    'url': 'https://apollo-singapore.akamaized.net:443/v1/files/a0swpk3ww6jk-ID/image;s=120x90',\n",
              "    'width': 120},\n",
              "   'url': 'https://apollo-singapore.akamaized.net:443/v1/files/a0swpk3ww6jk-ID/image',\n",
              "   'width': 1080},\n",
              "  {'big': {'height': 378,\n",
              "    'url': 'https://apollo-singapore.akamaized.net:443/v1/files/hong89w1vaj82-ID/image;s=505x378',\n",
              "    'width': 505},\n",
              "   'external_id': 'hong89w1vaj82-ID',\n",
              "   'full': {'height': 810,\n",
              "    'url': 'https://apollo-singapore.akamaized.net:443/v1/files/hong89w1vaj82-ID/image;s=1080x810',\n",
              "    'width': 1080},\n",
              "   'height': 810,\n",
              "   'id': '1797938993',\n",
              "   'medium': {'height': 90,\n",
              "    'url': 'https://apollo-singapore.akamaized.net:443/v1/files/hong89w1vaj82-ID/image;s=120x90',\n",
              "    'width': 120},\n",
              "   'small': {'height': 90,\n",
              "    'url': 'https://apollo-singapore.akamaized.net:443/v1/files/hong89w1vaj82-ID/image;s=120x90',\n",
              "    'width': 120},\n",
              "   'url': 'https://apollo-singapore.akamaized.net:443/v1/files/hong89w1vaj82-ID/image',\n",
              "   'width': 1080},\n",
              "  {'big': {'height': 378,\n",
              "    'url': 'https://apollo-singapore.akamaized.net:443/v1/files/it3o6psalyl11-ID/image;s=505x378',\n",
              "    'width': 505},\n",
              "   'external_id': 'it3o6psalyl11-ID',\n",
              "   'full': {'height': 810,\n",
              "    'url': 'https://apollo-singapore.akamaized.net:443/v1/files/it3o6psalyl11-ID/image;s=1080x810',\n",
              "    'width': 1080},\n",
              "   'height': 810,\n",
              "   'id': '1797938994',\n",
              "   'medium': {'height': 90,\n",
              "    'url': 'https://apollo-singapore.akamaized.net:443/v1/files/it3o6psalyl11-ID/image;s=120x90',\n",
              "    'width': 120},\n",
              "   'small': {'height': 90,\n",
              "    'url': 'https://apollo-singapore.akamaized.net:443/v1/files/it3o6psalyl11-ID/image;s=120x90',\n",
              "    'width': 120},\n",
              "   'url': 'https://apollo-singapore.akamaized.net:443/v1/files/it3o6psalyl11-ID/image',\n",
              "   'width': 1080},\n",
              "  {'big': {'height': 378,\n",
              "    'url': 'https://apollo-singapore.akamaized.net:443/v1/files/hca27dj7gus42-ID/image;s=505x378',\n",
              "    'width': 505},\n",
              "   'external_id': 'hca27dj7gus42-ID',\n",
              "   'full': {'height': 810,\n",
              "    'url': 'https://apollo-singapore.akamaized.net:443/v1/files/hca27dj7gus42-ID/image;s=1080x810',\n",
              "    'width': 1080},\n",
              "   'height': 810,\n",
              "   'id': '1797938995',\n",
              "   'medium': {'height': 90,\n",
              "    'url': 'https://apollo-singapore.akamaized.net:443/v1/files/hca27dj7gus42-ID/image;s=120x90',\n",
              "    'width': 120},\n",
              "   'small': {'height': 90,\n",
              "    'url': 'https://apollo-singapore.akamaized.net:443/v1/files/hca27dj7gus42-ID/image;s=120x90',\n",
              "    'width': 120},\n",
              "   'url': 'https://apollo-singapore.akamaized.net:443/v1/files/hca27dj7gus42-ID/image',\n",
              "   'width': 1080},\n",
              "  {'big': {'height': 378,\n",
              "    'url': 'https://apollo-singapore.akamaized.net:443/v1/files/3dlr5cvltdew1-ID/image;s=505x378',\n",
              "    'width': 505},\n",
              "   'external_id': '3dlr5cvltdew1-ID',\n",
              "   'full': {'height': 810,\n",
              "    'url': 'https://apollo-singapore.akamaized.net:443/v1/files/3dlr5cvltdew1-ID/image;s=1080x810',\n",
              "    'width': 1080},\n",
              "   'height': 810,\n",
              "   'id': '1797938996',\n",
              "   'medium': {'height': 90,\n",
              "    'url': 'https://apollo-singapore.akamaized.net:443/v1/files/3dlr5cvltdew1-ID/image;s=120x90',\n",
              "    'width': 120},\n",
              "   'small': {'height': 90,\n",
              "    'url': 'https://apollo-singapore.akamaized.net:443/v1/files/3dlr5cvltdew1-ID/image;s=120x90',\n",
              "    'width': 120},\n",
              "   'url': 'https://apollo-singapore.akamaized.net:443/v1/files/3dlr5cvltdew1-ID/image',\n",
              "   'width': 1080}],\n",
              " 'inspection_info': {'group': 'INTERNAL',\n",
              "  'inspection_id': 'de8abf51-e92e-4518-baf9-3979007ed08d'},\n",
              " 'is_kyc_verified_user': True,\n",
              " 'locations': [{'city_id': '4000076',\n",
              "   'district_id': '5000199',\n",
              "   'lat': -6.341,\n",
              "   'lon': 106.635,\n",
              "   'region_id': '2000004'}],\n",
              " 'locations_resolved': {'ADMIN_LEVEL_1_id': '2000004',\n",
              "  'ADMIN_LEVEL_1_name': 'Banten',\n",
              "  'ADMIN_LEVEL_3_id': '4000076',\n",
              "  'ADMIN_LEVEL_3_name': 'Tangerang Kab.',\n",
              "  'COUNTRY_id': '1000001',\n",
              "  'COUNTRY_name': 'Indonesia',\n",
              "  'SUBLOCALITY_LEVEL_1_id': '5000199',\n",
              "  'SUBLOCALITY_LEVEL_1_name': 'Cisauk'},\n",
              " 'main_info': '2016',\n",
              " 'monetizationInfo': None,\n",
              " 'package': {'id': '2000831'},\n",
              " 'parameters': [{'formatted_value': 'Honda',\n",
              "   'key': 'make',\n",
              "   'key_name': 'Merek',\n",
              "   'type': 'single',\n",
              "   'value': 'mobil-bekas-honda',\n",
              "   'value_name': 'Honda'},\n",
              "  {'formatted_value': 'Jazz',\n",
              "   'key': 'm_tipe',\n",
              "   'key_name': 'Model',\n",
              "   'type': 'single',\n",
              "   'value': 'mobil-bekas-honda-jazz',\n",
              "   'value_name': 'Jazz'},\n",
              "  {'formatted_value': '1.5 RS Bensin',\n",
              "   'key': 'm_tipe_variant',\n",
              "   'key_name': 'Varian',\n",
              "   'type': 'single',\n",
              "   'value': 'honda-jazz-66879-rs',\n",
              "   'value_name': '1.5 RS Bensin'},\n",
              "  {'formatted_value': '2016',\n",
              "   'key': 'm_year',\n",
              "   'key_name': 'Tahun',\n",
              "   'type': 'single',\n",
              "   'value': '2016',\n",
              "   'value_name': '2016'},\n",
              "  {'formatted_value': '65.000-70.000 km',\n",
              "   'key': 'mileage',\n",
              "   'key_name': 'Jarak tempuh',\n",
              "   'type': 'single',\n",
              "   'value': '70',\n",
              "   'value_name': '65.000-70.000'},\n",
              "  {'formatted_value': 'Bensin',\n",
              "   'key': 'm_fuel',\n",
              "   'key_name': 'Tipe bahan bakar',\n",
              "   'type': 'single',\n",
              "   'value': 'bensin',\n",
              "   'value_name': 'Bensin'},\n",
              "  {'formatted_value': 'Hitam',\n",
              "   'key': 'm_color',\n",
              "   'key_name': 'Warna',\n",
              "   'type': 'single',\n",
              "   'value': 'hitam',\n",
              "   'value_name': 'Hitam'},\n",
              "  {'formatted_value': 'Automatic',\n",
              "   'key': 'm_transmission',\n",
              "   'key_name': 'Transmisi',\n",
              "   'type': 'single',\n",
              "   'value': 'automatic',\n",
              "   'value_name': 'Automatic'},\n",
              "  {'formatted_value': 'Hatchback',\n",
              "   'key': 'm_body',\n",
              "   'key_name': 'Tipe bodi',\n",
              "   'type': 'single',\n",
              "   'value': 'hatchback',\n",
              "   'value_name': 'Hatchback'},\n",
              "  {'formatted_value': '>1.000 - 1.500 cc',\n",
              "   'key': 'm_engine_capacity',\n",
              "   'key_name': 'Kapasitas mesin',\n",
              "   'type': 'single',\n",
              "   'value': '1000-to-1500',\n",
              "   'value_name': '>1.000 - 1.500 cc'}],\n",
              " 'price': {'key': 'price',\n",
              "  'key_name': 'Harga',\n",
              "  'value': {'currency': {'iso_4217': 'IDR', 'pre': 'Rp'},\n",
              "   'display': 'Rp 179.000.000',\n",
              "   'raw': 179000000.0}},\n",
              " 'score': 0.96,\n",
              " 'spell': {'default_sorting': 'DEFAULT',\n",
              "  'facet_disabled': True,\n",
              "  'id': 93,\n",
              "  'key': 'DISCERN_LOCATION',\n",
              "  'main': False,\n",
              "  'version': '1'},\n",
              " 'status': {'allow_edit': True,\n",
              "  'ban_reason_id': None,\n",
              "  'display': 'active',\n",
              "  'flags': {'hot': False, 'new': False},\n",
              "  'link': None,\n",
              "  'message': None,\n",
              "  'status': 'active',\n",
              "  'translated_display': 'Aktif'},\n",
              " 'title': '[OLXAutos] Honda Jazz 1.5 RS A/T 2016 Hitam',\n",
              " 'user_id': '81045094',\n",
              " 'user_name': 'OLX Autos Meruya',\n",
              " 'user_type': 'OLX_Autos',\n",
              " 'vasTags': ['warranty',\n",
              "  'moneyback',\n",
              "  'home_test_drive',\n",
              "  'free_maintenance',\n",
              "  'inspected_car',\n",
              "  'verified_seller']}"
            ]
          },
          "metadata": {
            "tags": []
          },
          "execution_count": 38
        }
      ]
    },
    {
      "cell_type": "code",
      "metadata": {
        "id": "NXQwOQsDgGjp"
      },
      "source": [
        "# target yang kita ambil\n",
        "# title\n",
        "# deskripsi\n",
        "# harga\n",
        "# favorite\n",
        "import pandas as pd\n"
      ],
      "execution_count": null,
      "outputs": []
    },
    {
      "cell_type": "code",
      "metadata": {
        "id": "zZx1o7MNgmlb"
      },
      "source": [
        "item = []\n",
        "for i in range(len(data_mobil)):\n",
        "  wadah = {} #dictionary\n",
        "  wadah['judul'] = data_mobil[i]['title']\n",
        "  wadah['deskripsi']= data_mobil[i]['description']\n",
        "  wadah['harga']= data_mobil[i]['price']['value']['raw']\n",
        "  wadah['favorit']= data_mobil[i]['favorites']['count']\n",
        "  item.append(wadah)\n",
        "\n",
        "item_df = pd.DataFrame(item)\n",
        "\n",
        " "
      ],
      "execution_count": null,
      "outputs": []
    },
    {
      "cell_type": "code",
      "metadata": {
        "colab": {
          "base_uri": "https://localhost:8080/",
          "height": 289
        },
        "id": "NmWWg7XRhaZb",
        "outputId": "5642e039-9dff-4156-cb3c-1916e4695b21"
      },
      "source": [
        "item_df.sort_values('harga',ascending=False).head()"
      ],
      "execution_count": null,
      "outputs": [
        {
          "output_type": "execute_result",
          "data": {
            "text/html": [
              "<div>\n",
              "<style scoped>\n",
              "    .dataframe tbody tr th:only-of-type {\n",
              "        vertical-align: middle;\n",
              "    }\n",
              "\n",
              "    .dataframe tbody tr th {\n",
              "        vertical-align: top;\n",
              "    }\n",
              "\n",
              "    .dataframe thead th {\n",
              "        text-align: right;\n",
              "    }\n",
              "</style>\n",
              "<table border=\"1\" class=\"dataframe\">\n",
              "  <thead>\n",
              "    <tr style=\"text-align: right;\">\n",
              "      <th></th>\n",
              "      <th>judul</th>\n",
              "      <th>deskripsi</th>\n",
              "      <th>harga</th>\n",
              "      <th>favorit</th>\n",
              "    </tr>\n",
              "  </thead>\n",
              "  <tbody>\n",
              "    <tr>\n",
              "      <th>1</th>\n",
              "      <td>Porsche Macan 2.0 2014 Akhir White On Black Fu...</td>\n",
              "      <td>Plat Ganjil, Full Option, NIK 2014 Akhir, Paja...</td>\n",
              "      <td>815000000.0</td>\n",
              "      <td>12</td>\n",
              "    </tr>\n",
              "    <tr>\n",
              "      <th>16</th>\n",
              "      <td>TOYOTA FORTUNER VRZ 4X2 2018 ISTIMEWA #DAKAR #...</td>\n",
              "      <td>TOYOTA FORTUNER VRZ 4X2 2018 ISTIMEWA\\n\\nNIK :...</td>\n",
              "      <td>430000000.0</td>\n",
              "      <td>20</td>\n",
              "    </tr>\n",
              "    <tr>\n",
              "      <th>8</th>\n",
              "      <td>Toyota Alphard G ATPM 2012</td>\n",
              "      <td>Toyota Alpgard G ATPM 2012 Hitam\\nTangan 1\\nOr...</td>\n",
              "      <td>325000000.0</td>\n",
              "      <td>0</td>\n",
              "    </tr>\n",
              "    <tr>\n",
              "      <th>0</th>\n",
              "      <td>[OLXAutos] Honda Jazz 1.5 RS A/T 2016 Hitam</td>\n",
              "      <td>OA-Mobil19-229\\n\\nHonda Jazz 1.5 RS A/T 2016 H...</td>\n",
              "      <td>179000000.0</td>\n",
              "      <td>7</td>\n",
              "    </tr>\n",
              "    <tr>\n",
              "      <th>3</th>\n",
              "      <td>Great New Xenia type R Sporty</td>\n",
              "      <td>Bismillah\\nDijual Great New Xenia type R Sport...</td>\n",
              "      <td>167000000.0</td>\n",
              "      <td>13</td>\n",
              "    </tr>\n",
              "  </tbody>\n",
              "</table>\n",
              "</div>"
            ],
            "text/plain": [
              "                                                judul  ... favorit\n",
              "1   Porsche Macan 2.0 2014 Akhir White On Black Fu...  ...      12\n",
              "16  TOYOTA FORTUNER VRZ 4X2 2018 ISTIMEWA #DAKAR #...  ...      20\n",
              "8                          Toyota Alphard G ATPM 2012  ...       0\n",
              "0         [OLXAutos] Honda Jazz 1.5 RS A/T 2016 Hitam  ...       7\n",
              "3                       Great New Xenia type R Sporty  ...      13\n",
              "\n",
              "[5 rows x 4 columns]"
            ]
          },
          "metadata": {
            "tags": []
          },
          "execution_count": 48
        }
      ]
    },
    {
      "cell_type": "code",
      "metadata": {
        "colab": {
          "base_uri": "https://localhost:8080/"
        },
        "id": "ZjXwWIwFjxtY",
        "outputId": "c72ab531-2f3e-4e60-b1bb-84da1e6fa29c"
      },
      "source": [
        "# Selenium\n",
        "!apt update\n",
        "!apt install chromium-chromedriver\n",
        "!cp /usr/lib/chromium-browser/chromedriver /usr/bin"
      ],
      "execution_count": null,
      "outputs": [
        {
          "output_type": "stream",
          "text": [
            "\u001b[33m\r0% [Working]\u001b[0m\r            \rIgn:1 https://developer.download.nvidia.com/compute/cuda/repos/ubuntu1804/x86_64  InRelease\n",
            "\u001b[33m\r0% [Connecting to archive.ubuntu.com (91.189.88.152)] [Connecting to security.u\u001b[0m\r                                                                               \rHit:2 https://cloud.r-project.org/bin/linux/ubuntu bionic-cran40/ InRelease\n",
            "\u001b[33m\r0% [Connecting to archive.ubuntu.com (91.189.88.152)] [Connecting to security.u\u001b[0m\r                                                                               \rIgn:3 https://developer.download.nvidia.com/compute/machine-learning/repos/ubuntu1804/x86_64  InRelease\n",
            "\u001b[33m\r0% [Connecting to archive.ubuntu.com (91.189.88.152)] [Connecting to security.u\u001b[0m\u001b[33m\r0% [2 InRelease gpgv 3,626 B] [Connecting to archive.ubuntu.com (91.189.88.152)\u001b[0m\r                                                                               \rHit:4 https://developer.download.nvidia.com/compute/cuda/repos/ubuntu1804/x86_64  Release\n",
            "Hit:5 https://developer.download.nvidia.com/compute/machine-learning/repos/ubuntu1804/x86_64  Release\n",
            "Hit:6 http://archive.ubuntu.com/ubuntu bionic InRelease\n",
            "Hit:7 http://ppa.launchpad.net/c2d4u.team/c2d4u4.0+/ubuntu bionic InRelease\n",
            "Hit:8 http://security.ubuntu.com/ubuntu bionic-security InRelease\n",
            "Hit:10 http://archive.ubuntu.com/ubuntu bionic-updates InRelease\n",
            "Hit:12 http://archive.ubuntu.com/ubuntu bionic-backports InRelease\n",
            "Hit:13 http://ppa.launchpad.net/cran/libgit2/ubuntu bionic InRelease\n",
            "Hit:14 http://ppa.launchpad.net/deadsnakes/ppa/ubuntu bionic InRelease\n",
            "Hit:15 http://ppa.launchpad.net/graphics-drivers/ppa/ubuntu bionic InRelease\n",
            "Reading package lists... Done\n",
            "Building dependency tree       \n",
            "Reading state information... Done\n",
            "59 packages can be upgraded. Run 'apt list --upgradable' to see them.\n",
            "Reading package lists... Done\n",
            "Building dependency tree       \n",
            "Reading state information... Done\n",
            "chromium-chromedriver is already the newest version (89.0.4389.90-0ubuntu0.18.04.2).\n",
            "0 upgraded, 0 newly installed, 0 to remove and 59 not upgraded.\n",
            "cp: '/usr/lib/chromium-browser/chromedriver' and '/usr/bin/chromedriver' are the same file\n"
          ],
          "name": "stdout"
        }
      ]
    },
    {
      "cell_type": "code",
      "metadata": {
        "colab": {
          "base_uri": "https://localhost:8080/"
        },
        "id": "ySZZM80LleZ-",
        "outputId": "922001f3-a0d2-40f9-ff95-3405715252a8"
      },
      "source": [
        "!pip install selenium"
      ],
      "execution_count": null,
      "outputs": [
        {
          "output_type": "stream",
          "text": [
            "Requirement already satisfied: selenium in /usr/local/lib/python3.7/dist-packages (3.141.0)\n",
            "Requirement already satisfied: urllib3 in /usr/local/lib/python3.7/dist-packages (from selenium) (1.24.3)\n"
          ],
          "name": "stdout"
        }
      ]
    },
    {
      "cell_type": "code",
      "metadata": {
        "colab": {
          "base_uri": "https://localhost:8080/"
        },
        "id": "_vz2G8UZkYFX",
        "outputId": "0570e3f5-88a6-4f56-8231-bd26497df0c1"
      },
      "source": [
        "# config\n",
        "import sys\n",
        "sys.path.insert(0,'/usr/lib/chromium-browser/chromedriver' )\n",
        "from selenium import webdriver\n",
        "chrome_options = webdriver.ChromeOptions()\n",
        "chrome_options.add_argument('--headless')\n",
        "chrome_options.add_argument('--no-sandbox')\n",
        "browser = webdriver.Chrome('chromedriver', chrome_options = chrome_options)"
      ],
      "execution_count": null,
      "outputs": [
        {
          "output_type": "stream",
          "text": [
            "/usr/local/lib/python3.7/dist-packages/ipykernel_launcher.py:8: DeprecationWarning: use options instead of chrome_options\n",
            "  \n"
          ],
          "name": "stderr"
        }
      ]
    },
    {
      "cell_type": "code",
      "metadata": {
        "colab": {
          "base_uri": "https://localhost:8080/",
          "height": 215
        },
        "id": "ojKrLPDYmKmK",
        "outputId": "df30a423-3fb7-47d2-d85b-b002a9f14cd9"
      },
      "source": [
        "# akses\n",
        "browser.get(url)"
      ],
      "execution_count": null,
      "outputs": [
        {
          "output_type": "error",
          "ename": "NameError",
          "evalue": "ignored",
          "traceback": [
            "\u001b[0;31m---------------------------------------------------------------------------\u001b[0m",
            "\u001b[0;31mNameError\u001b[0m                                 Traceback (most recent call last)",
            "\u001b[0;32m<ipython-input-61-6b1497947c53>\u001b[0m in \u001b[0;36m<module>\u001b[0;34m()\u001b[0m\n\u001b[1;32m      1\u001b[0m \u001b[0;31m# akses\u001b[0m\u001b[0;34m\u001b[0m\u001b[0;34m\u001b[0m\u001b[0;34m\u001b[0m\u001b[0m\n\u001b[0;32m----> 2\u001b[0;31m \u001b[0mbrowser\u001b[0m\u001b[0;34m.\u001b[0m\u001b[0mget\u001b[0m\u001b[0;34m(\u001b[0m\u001b[0murl\u001b[0m\u001b[0;34m)\u001b[0m\u001b[0;34m\u001b[0m\u001b[0;34m\u001b[0m\u001b[0m\n\u001b[0m",
            "\u001b[0;31mNameError\u001b[0m: name 'url' is not defined"
          ]
        }
      ]
    },
    {
      "cell_type": "code",
      "metadata": {
        "id": "6qkcpEenoCmr"
      },
      "source": [
        "# tentukan situs yg diakses\n",
        "url = \"https://www.olx.co.id/\""
      ],
      "execution_count": 3,
      "outputs": []
    },
    {
      "cell_type": "code",
      "metadata": {
        "id": "d4Yifl4toNJW"
      },
      "source": [
        "# akses\n",
        "browser.get(url)"
      ],
      "execution_count": null,
      "outputs": []
    },
    {
      "cell_type": "code",
      "metadata": {
        "id": "m1BUnBrxoPXo"
      },
      "source": [
        "# simpan halaman\n",
        "def simpan_html(html):\n",
        "  f = open('cek.html', \"a\")\n",
        "  f.seek(0)\n",
        "  f.truncate()\n",
        "  f.write(html)\n",
        "  f.close()"
      ],
      "execution_count": null,
      "outputs": []
    },
    {
      "cell_type": "code",
      "metadata": {
        "id": "i2QwCt6jovJ2"
      },
      "source": [
        "simpan_html(browser.page_source)"
      ],
      "execution_count": null,
      "outputs": []
    },
    {
      "cell_type": "code",
      "metadata": {
        "id": "e7lqVgrgo0Ts"
      },
      "source": [
        "# akses searchbar\n",
        "browser.find_element_by_id('v-omnisearch__input').send_keys(\"topi\")\n",
        "browser.find_element_by_class_name('v-omnisearch__submit').click()\n"
      ],
      "execution_count": null,
      "outputs": []
    },
    {
      "cell_type": "code",
      "metadata": {
        "id": "wJjMm--CsgW1"
      },
      "source": [
        "simpan_html(browser.page_source)"
      ],
      "execution_count": null,
      "outputs": []
    },
    {
      "cell_type": "code",
      "metadata": {
        "id": "AZJ_jBCrtQIJ"
      },
      "source": [
        ""
      ],
      "execution_count": null,
      "outputs": []
    }
  ]
}